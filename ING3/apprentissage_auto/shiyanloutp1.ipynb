{
 "cells": [
  {
   "cell_type": "markdown",
   "metadata": {},
   "source": [
    "# SHI YAN LOU  TP1"
   ]
  },
  {
   "cell_type": "code",
   "execution_count": 13,
   "metadata": {},
   "outputs": [
    {
     "data": {
      "text/plain": [
       "1.0000000000000007"
      ]
     },
     "execution_count": 13,
     "metadata": {},
     "output_type": "execute_result"
    }
   ],
   "source": [
    "from sklearn import linear_model\n",
    "from sklearn import datasets\n",
    "from sklearn.model_selection import train_test_split\n",
    "import numpy as np\n",
    "\n",
    "diabetes = datasets.load_diabetes()\n",
    "diabetes_feature = diabetes.data[:, np.newaxis, 2]\n",
    "diabetes.data[0] #age\n",
    "np.sum(diabetes.data[:,1]**2) # sum of squares each line is equal to 1\n"
   ]
  },
  {
   "cell_type": "code",
   "execution_count": 18,
   "metadata": {},
   "outputs": [
    {
     "name": "stdout",
     "output_type": "stream",
     "text": [
      "[ 928.85219]\n",
      "154.721304382\n"
     ]
    }
   ],
   "source": [
    "diabetes_target = diabetes.target\n",
    "# slice datasets \n",
    "train_feature, test_feature, train_target, test_target \n",
    "= train_test_split(diabetes_feature, diabetes_target, test_size=0.33,random_state=56)\n",
    "model = linear_model.LinearRegression()\n",
    "model.fit(train_feature, train_target)\n",
    "print(model.coef_)\n",
    "print(model.intercept_)\n",
    "# fitting function = 928.85x1 + 154.72"
   ]
  },
  {
   "cell_type": "code",
   "execution_count": null,
   "metadata": {
    "collapsed": true
   },
   "outputs": [],
   "source": []
  }
 ],
 "metadata": {
  "kernelspec": {
   "display_name": "Python 3",
   "language": "python",
   "name": "python3"
  },
  "language_info": {
   "codemirror_mode": {
    "name": "ipython",
    "version": 3
   },
   "file_extension": ".py",
   "mimetype": "text/x-python",
   "name": "python",
   "nbconvert_exporter": "python",
   "pygments_lexer": "ipython3",
   "version": "3.6.3"
  }
 },
 "nbformat": 4,
 "nbformat_minor": 2
}
