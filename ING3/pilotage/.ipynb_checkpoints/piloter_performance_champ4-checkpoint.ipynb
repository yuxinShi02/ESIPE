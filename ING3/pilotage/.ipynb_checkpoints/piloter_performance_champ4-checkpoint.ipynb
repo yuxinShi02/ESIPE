{
 "cells": [
  {
   "cell_type": "markdown",
   "metadata": {},
   "source": [
    "# Approche par les couts\n",
    "\n",
    "**Le coût marginal** est égal au coût de la dernière unité fabriquée pour atteindre un niveau de production. Ex: unun cout de revient de 56000 euros, une étude montre que la fabrication de ces produit entraine des coût totaux d'un montant de 61000 euros, et le coût marginal des produit est 61000 - 56000 = 5000.\n",
    "\n",
    "## 4 Méthodes\n",
    "### Le prix du marché\n",
    "Permet d'inciter les centres concernés à une attitude d'entrepreneur ne permettant des choix économiques réalistes.    \n",
    "Suppose des produits banalisés dont les approvisionnements sont aisés et le prix de référence connu."
   ]
  }
 ],
 "metadata": {
  "kernelspec": {
   "display_name": "Python 3",
   "language": "python",
   "name": "python3"
  },
  "language_info": {
   "codemirror_mode": {
    "name": "ipython",
    "version": 3
   },
   "file_extension": ".py",
   "mimetype": "text/x-python",
   "name": "python",
   "nbconvert_exporter": "python",
   "pygments_lexer": "ipython3",
   "version": "3.6.3"
  }
 },
 "nbformat": 4,
 "nbformat_minor": 2
}
