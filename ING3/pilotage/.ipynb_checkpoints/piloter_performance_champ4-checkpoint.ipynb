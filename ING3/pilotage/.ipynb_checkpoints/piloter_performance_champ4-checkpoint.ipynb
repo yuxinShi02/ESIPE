{
 "cells": [
  {
   "cell_type": "markdown",
   "metadata": {},
   "source": [
    "# Approche par les couts\n",
    "\n",
    "**Le coût marginal** est égal au coût de la dernière unité fabriquée pour atteindre un niveau de production. Ex: unun cout de revient de 56000 euros, une étude montre que la fabrication de ces produit entraine des coût totaux d'un montant de 61000 euros, et le coût marginal des produit est 61000 - 56000 = 5000.\n",
    "\n",
    "## 4 Méthodes\n",
    "### Le prix du marché\n",
    "Permet d'inciter les centres concernés à une attitude d'entrepreneur ne permettant des choix économiques réalistes.    \n",
    "Suppose des produits banalisés dont les approvisionnements sont aisés et le prix de référence connu.\n",
    "\n",
    "### Le prix de marché dimunué d'une commission\n",
    "### Le prix du double prix\n"
   ]
  },
  {
   "cell_type": "markdown",
   "metadata": {},
   "source": [
    "## Exo Cas toutenfer\n",
    "\n",
    "### a)\n",
    "\n",
    "| - | ne rien faire | Produit X |Fixer PCI acceptable pour A et B|\n",
    "|---|---|---|---|\n",
    "|Centre A | 16200 | 26400| - |\n",
    "|Centre B| 0 | -3000 | - |\n",
    "|R et E| 16200 | 23400 | - |\n",
    "\n",
    "- Prix minimal\n",
    "Coût marginal --> centre A = CV = 26 euros   \n",
    "- Prix maximal\n",
    "centre B marge --> 100 - 50 = 50 euros\n",
    "- Coûts fixes \n",
    "12 euros --> 16 euros ($\\frac{14400}{900}$)   \n",
    "Fourcette acceptable ]38 - 50["
   ]
  },
  {
   "cell_type": "code",
   "execution_count": null,
   "metadata": {
    "collapsed": true
   },
   "outputs": [],
   "source": []
  }
 ],
 "metadata": {
  "kernelspec": {
   "display_name": "Python 3",
   "language": "python",
   "name": "python3"
  },
  "language_info": {
   "codemirror_mode": {
    "name": "ipython",
    "version": 3
   },
   "file_extension": ".py",
   "mimetype": "text/x-python",
   "name": "python",
   "nbconvert_exporter": "python",
   "pygments_lexer": "ipython3",
   "version": "3.6.3"
  }
 },
 "nbformat": 4,
 "nbformat_minor": 2
}
