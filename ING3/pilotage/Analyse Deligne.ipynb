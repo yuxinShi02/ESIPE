{
 "cells": [
  {
   "cell_type": "markdown",
   "metadata": {},
   "source": [
    "# Table de bord EXO\n",
    "\n",
    "## Element de comprehension de l'entreprise\n",
    "- Mission\n",
    "- Organisation \n",
    "- Strategie\n",
    "- SWOT\n",
    "- Gestion\n",
    "- Atout(bonne technologie, equipe jeune dynamique)\n",
    "- Faiblesse(concurrence, manque de l'argent)\n",
    "\n",
    "## Objectif de l'entreprise\n",
    "\n",
    "\n",
    "|Objectifs|Variable d'achat|Indicateurs de resultat|Indicatieur de plan d'action|\n",
    "|---|---|---|---|\n",
    "|1. degager la rentabilite|Var1 maitrise les frais d'agence|\n",
    "|-------------------------|Var2 respect le delais et devis|\n",
    "|-------------------------|Var3 maitrise le taux d'activite|\n",
    "|2. developer le CA|Var1 satisfaction\n",
    "|------------------|Var2 dynamisme des comerciaux|\n",
    "|3. maitriser l'evolution du BFR|Var1 "
   ]
  },
  {
   "cell_type": "code",
   "execution_count": null,
   "metadata": {
    "collapsed": true
   },
   "outputs": [],
   "source": []
  }
 ],
 "metadata": {
  "kernelspec": {
   "display_name": "Python 3",
   "language": "python",
   "name": "python3"
  },
  "language_info": {
   "codemirror_mode": {
    "name": "ipython",
    "version": 3
   },
   "file_extension": ".py",
   "mimetype": "text/x-python",
   "name": "python",
   "nbconvert_exporter": "python",
   "pygments_lexer": "ipython3",
   "version": "3.6.3"
  }
 },
 "nbformat": 4,
 "nbformat_minor": 2
}
