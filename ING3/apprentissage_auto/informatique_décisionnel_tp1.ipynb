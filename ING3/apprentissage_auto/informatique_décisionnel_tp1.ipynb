{
 "cells": [
  {
   "cell_type": "markdown",
   "metadata": {},
   "source": [
    "# Qlikview Developper\n",
    "\n",
    "Le processus de BI:   \n",
    "Source $\\longrightarrow$ Extracteur $\\longrightarrow$ Intégration(SSIS) $\\longrightarrow$ Datamart $\\longrightarrow$ Restitution（Qlikview)"
   ]
  },
  {
   "cell_type": "markdown",
   "metadata": {},
   "source": [
    "|---|---|---|---|---|---|\n",
    "|Source|STAGIN|ODS|DataWareHouse|Couche accès donnée|Restitution|     \n",
    "\n",
    "Staging et ODS est différenciée par la durée de vie."
   ]
  },
  {
   "cell_type": "code",
   "execution_count": null,
   "metadata": {
    "collapsed": true
   },
   "outputs": [],
   "source": []
  }
 ],
 "metadata": {
  "kernelspec": {
   "display_name": "Python 3",
   "language": "python",
   "name": "python3"
  },
  "language_info": {
   "codemirror_mode": {
    "name": "ipython",
    "version": 3
   },
   "file_extension": ".py",
   "mimetype": "text/x-python",
   "name": "python",
   "nbconvert_exporter": "python",
   "pygments_lexer": "ipython3",
   "version": "3.6.3"
  }
 },
 "nbformat": 4,
 "nbformat_minor": 2
}
