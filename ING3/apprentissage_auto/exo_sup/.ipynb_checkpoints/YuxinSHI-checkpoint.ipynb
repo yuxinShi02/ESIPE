{
 "cells": [
  {
   "cell_type": "code",
   "execution_count": 289,
   "metadata": {},
   "outputs": [
    {
     "data": {
      "text/html": [
       "<div>\n",
       "<style>\n",
       "    .dataframe thead tr:only-child th {\n",
       "        text-align: right;\n",
       "    }\n",
       "\n",
       "    .dataframe thead th {\n",
       "        text-align: left;\n",
       "    }\n",
       "\n",
       "    .dataframe tbody tr th {\n",
       "        vertical-align: top;\n",
       "    }\n",
       "</style>\n",
       "<table border=\"1\" class=\"dataframe\">\n",
       "  <thead>\n",
       "    <tr style=\"text-align: right;\">\n",
       "      <th></th>\n",
       "      <th>X1</th>\n",
       "      <th>X2</th>\n",
       "      <th>Y</th>\n",
       "    </tr>\n",
       "  </thead>\n",
       "  <tbody>\n",
       "    <tr>\n",
       "      <th>0</th>\n",
       "      <td>0.0</td>\n",
       "      <td>1.0</td>\n",
       "      <td>0.0</td>\n",
       "    </tr>\n",
       "    <tr>\n",
       "      <th>1</th>\n",
       "      <td>3.0</td>\n",
       "      <td>3.0</td>\n",
       "      <td>0.0</td>\n",
       "    </tr>\n",
       "    <tr>\n",
       "      <th>2</th>\n",
       "      <td>1.0</td>\n",
       "      <td>2.0</td>\n",
       "      <td>0.0</td>\n",
       "    </tr>\n",
       "    <tr>\n",
       "      <th>3</th>\n",
       "      <td>3.0</td>\n",
       "      <td>5.0</td>\n",
       "      <td>1.0</td>\n",
       "    </tr>\n",
       "    <tr>\n",
       "      <th>4</th>\n",
       "      <td>-6.0</td>\n",
       "      <td>-8.0</td>\n",
       "      <td>1.0</td>\n",
       "    </tr>\n",
       "    <tr>\n",
       "      <th>5</th>\n",
       "      <td>-1.0</td>\n",
       "      <td>-2.0</td>\n",
       "      <td>1.0</td>\n",
       "    </tr>\n",
       "    <tr>\n",
       "      <th>6</th>\n",
       "      <td>-1.0</td>\n",
       "      <td>-2.0</td>\n",
       "      <td>1.0</td>\n",
       "    </tr>\n",
       "    <tr>\n",
       "      <th>7</th>\n",
       "      <td>1.0</td>\n",
       "      <td>2.0</td>\n",
       "      <td>1.0</td>\n",
       "    </tr>\n",
       "  </tbody>\n",
       "</table>\n",
       "</div>"
      ],
      "text/plain": [
       "    X1   X2    Y\n",
       "0  0.0  1.0  0.0\n",
       "1  3.0  3.0  0.0\n",
       "2  1.0  2.0  0.0\n",
       "3  3.0  5.0  1.0\n",
       "4 -6.0 -8.0  1.0\n",
       "5 -1.0 -2.0  1.0\n",
       "6 -1.0 -2.0  1.0\n",
       "7  1.0  2.0  1.0"
      ]
     },
     "execution_count": 289,
     "metadata": {},
     "output_type": "execute_result"
    }
   ],
   "source": [
    "import pandas as pd\n",
    "import numpy as np\n",
    "\n",
    "d = {\n",
    "    \"X1\":[0., 3., 1.,3.,-6., -1., -1., 1.],\n",
    "    \"X2\":[1., 3., 2., 5., -8., -2., -2., 2.],\n",
    "    \"Y\": [0., 0., 0., 1., 1., 1., 1., 1.]\n",
    "}\n",
    "\n",
    "df = pd.DataFrame(d)\n",
    "df"
   ]
  },
  {
   "cell_type": "markdown",
   "metadata": {},
   "source": [
    "### 1. On souhaite appliquer la m´ethode des k plus proche voisins avec k = 1 directement sur les observations. En expliquant soigneusement toutes les ´etapes, prédire la classe du nouvel individu.\n",
    "\n",
    "Le principe du modèle K-plus proche consiste en effet à choisir les k données les plus proches du point étudié afin d’en prédire sa valeur.   \n",
    "\n",
    "On peut voir l'image de X1, X2 et Y, quand Y = 0, le point est rouge, quand Y = 1 le point est noir, le point vert c'est celui qu'il faut predire. Avec la méthode K-plus proche, on calcule la distance entre le points vert(0.0, -1.0) avec les autres K points qui sont plus proches.  Dans l'image, si on utilise 1-NN on va avoir le résultat le point vert = 1.0, parce que le point 5 est le point plus proche du point vert par rapport au point 0.\n",
    "\n",
    "$d_08$ = $\\sqrt{(X_2 - X_1)^2+(Y_2 - Y_1)^2}$ = $\\sqrt{0 + 4}$ = 2\n",
    "\n",
    "$d_58$ = $\\sqrt{1 + 1}$ = $\\sqrt{2}$ "
   ]
  },
  {
   "cell_type": "code",
   "execution_count": 290,
   "metadata": {},
   "outputs": [
    {
     "name": "stdout",
     "output_type": "stream",
     "text": [
      "2.0\n",
      "1.4142135623730951\n"
     ]
    }
   ],
   "source": [
    "import math\n",
    "def getDistance(point1, point2):\n",
    "    dist = math.sqrt((point2[0][0] - point1[0][0])**2 + (point2[0][1] - point1[0][1])**2)  \n",
    "    return dist  \n",
    "\n",
    "print(getDistance([[0.,1.]], [[0., -1.]]))\n",
    "print(getDistance([[-1.,-2]], [[0., -1.]]))"
   ]
  },
  {
   "cell_type": "code",
   "execution_count": 272,
   "metadata": {},
   "outputs": [
    {
     "data": {
      "image/png": "[encoded data removed]",
      "text/plain": [
       "<matplotlib.figure.Figure at 0x7fc85df147f0>"
      ]
     },
     "metadata": {},
     "output_type": "display_data"
    }
   ],
   "source": [
    "import matplotlib.pyplot as plt\n",
    "#df.loc[-1] = [0., -1., None]\n",
    "Y = df['Y']\n",
    "for index,i in enumerate(Y):\n",
    "    if i == 0.0:\n",
    "        plt.scatter(df['X1'][index],d['X2'][index],color='red', s = 100, label='Y=0')\n",
    "        plt.annotate(index, (df['X1'][index],d['X2'][index]))\n",
    "    elif i == 1.0:\n",
    "        plt.scatter(df['X1'][index],d['X2'][index],color='black', label='Y=1')\n",
    "        plt.annotate(index, (df['X1'][index],d['X2'][index]))\n",
    "plt.scatter(0.,-1.,color='green')\n",
    "plt.grid()\n",
    "plt.show()"
   ]
  },
  {
   "cell_type": "code",
   "execution_count": 291,
   "metadata": {},
   "outputs": [
    {
     "name": "stdout",
     "output_type": "stream",
     "text": [
      "[array([ 1.]), array([ 1.]), array([ 1.]), array([ 1.]), array([ 1.]), array([ 0.]), array([ 1.])]\n"
     ]
    }
   ],
   "source": [
    "from sklearn import neighbors\n",
    "res = []\n",
    "for i in range(1, 8):\n",
    "    knn = neighbors.KNeighborsClassifier(n_neighbors=i)\n",
    "    knn.fit(df[['X1', 'X2']], df['Y'])\n",
    "    res.append(knn.predict([[0., -1.]]))\n",
    "print(res)"
   ]
  },
  {
   "cell_type": "code",
   "execution_count": 292,
   "metadata": {
    "collapsed": true
   },
   "outputs": [],
   "source": [
    "from sklearn.metrics import accuracy_score\n",
    "from sklearn import cross_validation\n",
    "score = []\n",
    "train_target = df['Y']\n",
    "train_features = df.drop('Y', axis=1)\n",
    "eval_features, test_eval_features, eval_target, test_eval_target = \\\n",
    "cross_validation.train_test_split(train_features, train_target, test_size=0.33)"
   ]
  },
  {
   "cell_type": "code",
   "execution_count": 108,
   "metadata": {},
   "outputs": [
    {
     "name": "stdout",
     "output_type": "stream",
     "text": [
      "Knn quality is : 58.7719298246% with k = 1\n",
      "Knn quality is : 65.7894736842% with k = 2\n",
      "Knn quality is : 64.9122807018% with k = 3\n",
      "Knn quality is : 67.1052631579% with k = 4\n",
      "Knn quality is : 68.4210526316% with k = 5\n",
      "Knn quality is : 69.298245614% with k = 6\n",
      "Knn quality is : 67.9824561404% with k = 7\n"
     ]
    },
    {
     "data": {
      "image/png": "[encoded data removed]",
      "text/plain": [
       "<matplotlib.figure.Figure at 0x7fc8600f9fd0>"
      ]
     },
     "metadata": {},
     "output_type": "display_data"
    }
   ],
   "source": [
    "# Regardont la qualité de prédiction en utilisant la méthode validation croisée\n",
    "for i in range(1, 8):\n",
    "    knn = neighbors.KNeighborsClassifier(n_neighbors=i)\n",
    "    knn.fit(eval_features, eval_target)\n",
    "    resEval = knn.predict(test_eval_features)\n",
    "    quality = accuracy_score(test_eval_target, resEval)\n",
    "    score.append(quality)\n",
    "    print(\"Knn quality is : \" + str(quality*100) + \"%\" + \" with k = \" + str(i))\n",
    "\n",
    "plt.figure(figsize=(8,8))\n",
    "plt.plot(range(1, 8),score,linewidth=2)\n",
    "plt.show()"
   ]
  },
  {
   "cell_type": "markdown",
   "metadata": {},
   "source": [
    "Selon le résultat, on voit que Y8 est classifié en 1.0 sauf quand k = 6. Parce que quand k = 6, le nombres des points noirs plus proches est équal à 3, qui est identique avec le nombre des points rouges. Mais le mean de distance minimale entre les points classifiés et le point vert est la classe rouge.\n",
    "\n",
    "D'après l'analyse de validation croisée, on voit que quand K = 6 la qualité de prédiction est meilleure 69%, et dans le modèle, pour prédire le nouveau point, il est classé dans Y=1 partout sauf quand K = 6, il est classé en Y=0, mais c'est la qualité meilleure en fonction de K et les datasets splité, que peut on choisir? "
   ]
  },
  {
   "cell_type": "markdown",
   "metadata": {},
   "source": [
    "### 2. On se rend compte que les co-variables X1 et X2 n’ont pas tout a fait la même dispersion.    \n",
    "\n",
    "    2.1. Calculer la variance de chacune des variables X1 et X2.\n",
    "    \n",
    "    "
   ]
  },
  {
   "cell_type": "code",
   "execution_count": 74,
   "metadata": {},
   "outputs": [
    {
     "name": "stdout",
     "output_type": "stream",
     "text": [
      "7.25\n",
      "14.359375\n"
     ]
    }
   ],
   "source": [
    "# 2.1 \n",
    "def getVariance(series):\n",
    "    avg = sum(series)/len(series)\n",
    "    var = sum((i - avg)**2 for i in series)/len(series)\n",
    "    return var\n",
    "\n",
    "var1 = getVariance(df['X1'])\n",
    "var2 = getVariance(df['X2'])\n",
    "print(var1)\n",
    "print(var2)"
   ]
  },
  {
   "cell_type": "markdown",
   "metadata": {},
   "source": [
    "2.2. Expliquer soigneusement pourquoi cela peut être problèmatique pour la méthode de classification des k plus proches voisins.\n",
    " \n",
    "Cette méthode n'est pas pertinente car le résultat est dépend de K, si K n'est pas bien choisi, le résultat peut être faut.    \n",
    "\n",
    "Dans 2.1, on voit que la variance X2 est plus grande que X1, c'est-à-dire que X2 influence plus le résultat.Le problème c'est que tout les points se considère un même weight. Donc elle est très sensible aux données qui sont proches du nouveau point à prédire si K est petit, si ces données proches sont les bruits, le résultat serait possible incorrecte, un modèle sur-apprentissage . Si K est grand, "
   ]
  },
  {
   "cell_type": "markdown",
   "metadata": {},
   "source": [
    "2.3. Comment remédier à ce problème ? (indication : changer la distance)\n",
    "\n",
    "Il existe un algorithme améliorant par KNN s'appelle Large margin nearest neighbor LMNN. Cette méthode permet de créer un cercle à partir du point p avec un rayon. Ce rayon est définit par calculer la distances des k voisins pour tous les points dans l'exemplaire.    \n",
    "\n",
    "Posons nous une amélioration qui s'agit comparer le similitude du vecteur, c'est à  dire, on compare l'angle cosinus entre le point à predire et les autres points. Dans le schémas, tous les points de Y=1 sont prèsque dans une ligne droite. Quand K = 1, on prend un point voisin Y=1 p5 et un point voisin Y=0 p0, et on compare l'angle entre p5 et le point vert, l'angle entre p0 et le point vert, on choisit le résultat plus grand, parce que plus le résultat est grand, plus leur angle est petit, plus ils sont similaires. \n",
    "\n",
    "$cos(\\theta)$=$\\frac{x_1x_2+y_1y_2}{\\sqrt{x_1^2+y_2^2}\\sqrt{x_2^2+y_2^2}}$ = $\\frac{AB}{|A||B|}$"
   ]
  },
  {
   "cell_type": "markdown",
   "metadata": {},
   "source": [
    "2.4. Predire la classe du nouvel individu avec cette nouvelle méthode en prenant k = 1.\n",
    "Dans 2.4, j'ai utilisé cette méthode pour classifier le point p, il est classé en Y=1, mais la qualité est juste 54%. Elle ne convient pas ces données de petite taille. \n",
    "\n",
    "Quand on utilise la distance cosinus à calculer la similitude, le point p0 est bien plus similaire que le point p5. \n"
   ]
  },
  {
   "cell_type": "code",
   "execution_count": 126,
   "metadata": {},
   "outputs": [
    {
     "name": "stderr",
     "output_type": "stream",
     "text": [
      "/home/teasyu/anaconda3/lib/python3.6/site-packages/metric_learn/lmnn.py:62: UserWarning: use_pca does nothing for the python_LMNN implementation\n",
      "  warnings.warn('use_pca does nothing for the python_LMNN implementation')\n"
     ]
    },
    {
     "name": "stdout",
     "output_type": "stream",
     "text": [
      "[ 1.]\n",
      "0.587719298246\n"
     ]
    }
   ],
   "source": [
    "from metric_learn import LMNN\n",
    "lmnn = LMNN(k=1)\n",
    "knn = neighbors.KNeighborsClassifier(n_neighbors=1)\n",
    "lmnn.fit(df[['X1', 'X2']], df['Y'])\n",
    "knn.fit(lmnn.transform(df[['X1', 'X2']]), df['Y'])\n",
    "print(knn.predict(lmnn.transform([[0., -1.]])))\n",
    "\n",
    "lmnn.fit(eval_features, eval_target)\n",
    "knn.fit(lmnn.transform(eval_features), eval_target)\n",
    "resEval = knn.predict(lmnn.transform(test_eval_features))\n",
    "quality = accuracy_score(test_eval_target, resEval)\n",
    "print(quality)"
   ]
  },
  {
   "cell_type": "code",
   "execution_count": 310,
   "metadata": {},
   "outputs": [
    {
     "name": "stdout",
     "output_type": "stream",
     "text": [
      "0.894427191 1.0\n"
     ]
    }
   ],
   "source": [
    "# Calculer l'angle cosinus\n",
    "df.loc[-1] = [0., -1., None]\n",
    "def cosin_distance(vector1, vector2):\n",
    "    dot_product = 0.0\n",
    "    normA = 0.0\n",
    "    normB = 0.0\n",
    "    for a, b in zip(vector1, vector2):\n",
    "        dot_product += a * b\n",
    "        normA += a ** 2\n",
    "        normB += b ** 2\n",
    "    if normA == 0.0 or normB == 0.0:\n",
    "        return None\n",
    "    else:\n",
    "        return abs(dot_product / ((normA * normB) ** 0.5))\n",
    "\n",
    "angle80 = cosin_distance(df[['X1', 'X2']].loc[0], df[['X1', 'X2']].loc[-1])\n",
    "angle85 = cosin_distance(df[['X1', 'X2']].loc[5], df[['X1', 'X2']].loc[-1])\n",
    "print(angle85, angle80)"
   ]
  },
  {
   "cell_type": "markdown",
   "metadata": {},
   "source": [
    "### Exercice 2. Pour les données australian_credit vous proposerez (en motivant votre choix) puis mettrez en œuvre une méthode de classification supervisée. Vous prendrez soin d’expliquer les différentes étapes de calibration et d’évaluation de la qualité de la méthode choisie."
   ]
  },
  {
   "cell_type": "code",
   "execution_count": 192,
   "metadata": {},
   "outputs": [
    {
     "name": "stdout",
     "output_type": "stream",
     "text": [
      "(307, 15)\n"
     ]
    },
    {
     "data": {
      "text/html": [
       "<div>\n",
       "<style>\n",
       "    .dataframe thead tr:only-child th {\n",
       "        text-align: right;\n",
       "    }\n",
       "\n",
       "    .dataframe thead th {\n",
       "        text-align: left;\n",
       "    }\n",
       "\n",
       "    .dataframe tbody tr th {\n",
       "        vertical-align: top;\n",
       "    }\n",
       "</style>\n",
       "<table border=\"1\" class=\"dataframe\">\n",
       "  <thead>\n",
       "    <tr style=\"text-align: right;\">\n",
       "      <th></th>\n",
       "      <th>V1</th>\n",
       "      <th>V2</th>\n",
       "      <th>V3</th>\n",
       "      <th>V4</th>\n",
       "      <th>V5</th>\n",
       "      <th>V6</th>\n",
       "      <th>V7</th>\n",
       "      <th>V8</th>\n",
       "      <th>V9</th>\n",
       "      <th>V10</th>\n",
       "      <th>V11</th>\n",
       "      <th>V12</th>\n",
       "      <th>V13</th>\n",
       "      <th>V14</th>\n",
       "      <th>Y</th>\n",
       "    </tr>\n",
       "  </thead>\n",
       "  <tbody>\n",
       "    <tr>\n",
       "      <th>0</th>\n",
       "      <td>1</td>\n",
       "      <td>22.08</td>\n",
       "      <td>11.460</td>\n",
       "      <td>2</td>\n",
       "      <td>4</td>\n",
       "      <td>4</td>\n",
       "      <td>1.585</td>\n",
       "      <td>0</td>\n",
       "      <td>0</td>\n",
       "      <td>0</td>\n",
       "      <td>1</td>\n",
       "      <td>2</td>\n",
       "      <td>100</td>\n",
       "      <td>1213</td>\n",
       "      <td>0</td>\n",
       "    </tr>\n",
       "    <tr>\n",
       "      <th>1</th>\n",
       "      <td>0</td>\n",
       "      <td>22.67</td>\n",
       "      <td>7.000</td>\n",
       "      <td>2</td>\n",
       "      <td>8</td>\n",
       "      <td>4</td>\n",
       "      <td>0.165</td>\n",
       "      <td>0</td>\n",
       "      <td>0</td>\n",
       "      <td>0</td>\n",
       "      <td>0</td>\n",
       "      <td>2</td>\n",
       "      <td>160</td>\n",
       "      <td>1</td>\n",
       "      <td>0</td>\n",
       "    </tr>\n",
       "    <tr>\n",
       "      <th>2</th>\n",
       "      <td>0</td>\n",
       "      <td>29.58</td>\n",
       "      <td>1.750</td>\n",
       "      <td>1</td>\n",
       "      <td>4</td>\n",
       "      <td>4</td>\n",
       "      <td>1.250</td>\n",
       "      <td>0</td>\n",
       "      <td>0</td>\n",
       "      <td>0</td>\n",
       "      <td>1</td>\n",
       "      <td>2</td>\n",
       "      <td>280</td>\n",
       "      <td>1</td>\n",
       "      <td>0</td>\n",
       "    </tr>\n",
       "    <tr>\n",
       "      <th>3</th>\n",
       "      <td>0</td>\n",
       "      <td>21.67</td>\n",
       "      <td>11.500</td>\n",
       "      <td>1</td>\n",
       "      <td>5</td>\n",
       "      <td>3</td>\n",
       "      <td>0.000</td>\n",
       "      <td>1</td>\n",
       "      <td>1</td>\n",
       "      <td>11</td>\n",
       "      <td>1</td>\n",
       "      <td>2</td>\n",
       "      <td>0</td>\n",
       "      <td>1</td>\n",
       "      <td>1</td>\n",
       "    </tr>\n",
       "    <tr>\n",
       "      <th>4</th>\n",
       "      <td>1</td>\n",
       "      <td>20.17</td>\n",
       "      <td>8.170</td>\n",
       "      <td>2</td>\n",
       "      <td>6</td>\n",
       "      <td>4</td>\n",
       "      <td>1.960</td>\n",
       "      <td>1</td>\n",
       "      <td>1</td>\n",
       "      <td>14</td>\n",
       "      <td>0</td>\n",
       "      <td>2</td>\n",
       "      <td>60</td>\n",
       "      <td>159</td>\n",
       "      <td>1</td>\n",
       "    </tr>\n",
       "    <tr>\n",
       "      <th>5</th>\n",
       "      <td>0</td>\n",
       "      <td>15.83</td>\n",
       "      <td>0.585</td>\n",
       "      <td>2</td>\n",
       "      <td>8</td>\n",
       "      <td>8</td>\n",
       "      <td>1.500</td>\n",
       "      <td>1</td>\n",
       "      <td>1</td>\n",
       "      <td>2</td>\n",
       "      <td>0</td>\n",
       "      <td>2</td>\n",
       "      <td>100</td>\n",
       "      <td>1</td>\n",
       "      <td>1</td>\n",
       "    </tr>\n",
       "    <tr>\n",
       "      <th>6</th>\n",
       "      <td>1</td>\n",
       "      <td>17.42</td>\n",
       "      <td>6.500</td>\n",
       "      <td>2</td>\n",
       "      <td>3</td>\n",
       "      <td>4</td>\n",
       "      <td>0.125</td>\n",
       "      <td>0</td>\n",
       "      <td>0</td>\n",
       "      <td>0</td>\n",
       "      <td>0</td>\n",
       "      <td>2</td>\n",
       "      <td>60</td>\n",
       "      <td>101</td>\n",
       "      <td>0</td>\n",
       "    </tr>\n",
       "    <tr>\n",
       "      <th>7</th>\n",
       "      <td>0</td>\n",
       "      <td>58.67</td>\n",
       "      <td>4.460</td>\n",
       "      <td>2</td>\n",
       "      <td>11</td>\n",
       "      <td>8</td>\n",
       "      <td>3.040</td>\n",
       "      <td>1</td>\n",
       "      <td>1</td>\n",
       "      <td>6</td>\n",
       "      <td>0</td>\n",
       "      <td>2</td>\n",
       "      <td>43</td>\n",
       "      <td>561</td>\n",
       "      <td>1</td>\n",
       "    </tr>\n",
       "    <tr>\n",
       "      <th>8</th>\n",
       "      <td>1</td>\n",
       "      <td>27.83</td>\n",
       "      <td>1.000</td>\n",
       "      <td>1</td>\n",
       "      <td>2</td>\n",
       "      <td>8</td>\n",
       "      <td>3.000</td>\n",
       "      <td>0</td>\n",
       "      <td>0</td>\n",
       "      <td>0</td>\n",
       "      <td>0</td>\n",
       "      <td>2</td>\n",
       "      <td>176</td>\n",
       "      <td>538</td>\n",
       "      <td>0</td>\n",
       "    </tr>\n",
       "    <tr>\n",
       "      <th>9</th>\n",
       "      <td>0</td>\n",
       "      <td>55.75</td>\n",
       "      <td>7.080</td>\n",
       "      <td>2</td>\n",
       "      <td>4</td>\n",
       "      <td>8</td>\n",
       "      <td>6.750</td>\n",
       "      <td>1</td>\n",
       "      <td>1</td>\n",
       "      <td>3</td>\n",
       "      <td>1</td>\n",
       "      <td>2</td>\n",
       "      <td>100</td>\n",
       "      <td>51</td>\n",
       "      <td>0</td>\n",
       "    </tr>\n",
       "  </tbody>\n",
       "</table>\n",
       "</div>"
      ],
      "text/plain": [
       "   V1     V2      V3  V4  V5  V6     V7  V8  V9  V10  V11  V12  V13   V14  Y\n",
       "0   1  22.08  11.460   2   4   4  1.585   0   0    0    1    2  100  1213  0\n",
       "1   0  22.67   7.000   2   8   4  0.165   0   0    0    0    2  160     1  0\n",
       "2   0  29.58   1.750   1   4   4  1.250   0   0    0    1    2  280     1  0\n",
       "3   0  21.67  11.500   1   5   3  0.000   1   1   11    1    2    0     1  1\n",
       "4   1  20.17   8.170   2   6   4  1.960   1   1   14    0    2   60   159  1\n",
       "5   0  15.83   0.585   2   8   8  1.500   1   1    2    0    2  100     1  1\n",
       "6   1  17.42   6.500   2   3   4  0.125   0   0    0    0    2   60   101  0\n",
       "7   0  58.67   4.460   2  11   8  3.040   1   1    6    0    2   43   561  1\n",
       "8   1  27.83   1.000   1   2   8  3.000   0   0    0    0    2  176   538  0\n",
       "9   0  55.75   7.080   2   4   8  6.750   1   1    3    1    2  100    51  0"
      ]
     },
     "execution_count": 192,
     "metadata": {},
     "output_type": "execute_result"
    }
   ],
   "source": [
    "import pandas as pd\n",
    "import numpy as np\n",
    "\n",
    "df = pd.read_csv(\"australian_credit.csv\")\n",
    "train_target = df['Y']\n",
    "train_features = df.drop('Y', axis=1)\n",
    "eval_features, test_eval_features, eval_target, test_eval_target = \\\n",
    "cross_validation.train_test_split(train_features, train_target, test_size=0.33)\n",
    "print(df.loc[df['Y']==1].shape)\n",
    "df.head(10)"
   ]
  },
  {
   "cell_type": "code",
   "execution_count": 268,
   "metadata": {},
   "outputs": [
    {
     "data": {
      "image/png": "[encoded data removed]",
      "text/plain": [
       "<matplotlib.figure.Figure at 0x7fc85dd007f0>"
      ]
     },
     "metadata": {},
     "output_type": "display_data"
    },
    {
     "data": {
      "image/png": "[encoded data removed]",
      "text/plain": [
       "<matplotlib.figure.Figure at 0x7fc85de06fd0>"
      ]
     },
     "metadata": {},
     "output_type": "display_data"
    },
    {
     "name": "stdout",
     "output_type": "stream",
     "text": [
      "Proportion\n",
      "0    0.555072\n",
      "1    0.444928\n",
      "Name: Y, dtype: float64\n"
     ]
    }
   ],
   "source": [
    "# Sigmoid function feature\n",
    "\n",
    "x = np.linspace(-10, 10, 101)\n",
    "y = 1/(1+np.exp(-x))\n",
    "plt.plot(x, y)\n",
    "plt.grid()\n",
    "plt.show()\n",
    "count_classes = pd.value_counts(df['Y'], sort = True).sort_index()\n",
    "count_classes.plot(kind = 'bar')\n",
    "plt.show()\n",
    "print(\"Proportion\")\n",
    "print(pd.value_counts(df['Y'])/df.shape[0])"
   ]
  },
  {
   "cell_type": "markdown",
   "metadata": {},
   "source": [
    "### Regression logistics \n",
    "\n",
    "**Définition**  \n",
    "La régression logistique ou modèle logit est un modèle de régression binomiale.   \n",
    "Après développer la fonction sigmoïd on peut trouver un nouveau model:\n",
    "    $h_x(\\theta)$ = $\\frac{1}{1+e^{-\\theta^Tx}}$    \n",
    "Ici, $h_x(\\theta)$ représente la possibilité de résultat = 1. \n",
    "Ensuite, on établit la fonction de loss $J(\\theta)$ par calculer $\\log{h_x(\\theta)}$ quand y=1 et $\\log{(1 - h_x(\\theta))}$ quand y = 0. On peut retrouver $\\theta$ par la méthode de vraisemblance maximale.\n",
    "La régression logistique est largement répandue dans de domaines médicines.\n",
    "Dans le modèle dessous, on entraîne les données et calcule la qualité de ce modèle est 78%, qui est plutôt inutile. \n",
    "\n",
    "**Calibration**\n",
    "Dans le schémas au dessus, on voit que le nombre de Y = 0 et Y = 1 est à peu près égal, il n'est pas nécessaire à ajuster.\n",
    "1. On voit que V13 et V14 sont souvent très grandes par rapport au autres données, on peut changer ces colonnes en une suite de données qui a l'espérance 0 et la variance 1. Le résultat augmente de 75.8% à 83.3%.\n",
    "\n",
    "2. Même si on a ajusté les données, le résultat 83.3% n'est pas significatif. On continue a chercher une amélioration. \n",
    "Regardont la définition de la fonction LogisticRegression: \n",
    "\n",
    "*class sklearn.linear_model.LogisticRegression(penalty=’l2’, dual=False, tol=0.0001, C=1.0, fit_intercept=True, intercept_scaling=1, class_weight=None, random_state=None, solver=’warn’, max_iter=100, multi_class=’warn’, verbose=0, warm_start=False, n_jobs=None)*\n",
    "\n",
    "- Nous avons juste six centaines données, c'est une petite taille. Considérant à changer *penalty* à 'l1'\n",
    "- L'argument C est important pour ajuster le résultat mais aussi faut éviter sur-apprentissage, c'est 'Inverse of regularization strength; must be a positive float'. Mais le moment, je ne sais pas comment choisir C. Pour définir C, on peut construire une matrice de confusion en choisissant des C values différentes.\n",
    "\n",
    "3. Selon la table de C, on voit que le meilleur choix est 2 qui peut atteindre 91%, et dans la matrice de confusion, on a un ratio sensitive 87.8%."
   ]
  },
  {
   "cell_type": "code",
   "execution_count": 178,
   "metadata": {},
   "outputs": [
    {
     "name": "stdout",
     "output_type": "stream",
     "text": [
      "Logistic regression quality is 75.8771929825%\n"
     ]
    }
   ],
   "source": [
    "from sklearn.linear_model import LogisticRegression\n",
    "# Origin data\n",
    "def lrregression(eval_features, eval_target, test_eval_features, test_eval_target):\n",
    "    modelLR = LogisticRegression(random_state=0, solver='lbfgs',multi_class='multinomial')\n",
    "    modelLR.fit(eval_features, eval_target)\n",
    "    resLREval = modelLR.predict(test_eval_features)\n",
    "    scoreLR = accuracy_score(test_eval_target, resLREval)\n",
    "    print(\"Logistic regression quality is \" + str(scoreLR*100) + \"%\")\n",
    "\n",
    "lrregression(eval_features, eval_target, test_eval_features, test_eval_target)"
   ]
  },
  {
   "cell_type": "code",
   "execution_count": 179,
   "metadata": {},
   "outputs": [
    {
     "name": "stderr",
     "output_type": "stream",
     "text": [
      "/home/teasyu/anaconda3/lib/python3.6/site-packages/sklearn/utils/validation.py:475: DataConversionWarning: Data with input dtype int64 was converted to float64 by StandardScaler.\n",
      "  warnings.warn(msg, DataConversionWarning)\n",
      "/home/teasyu/anaconda3/lib/python3.6/site-packages/ipykernel_launcher.py:3: SettingWithCopyWarning: \n",
      "A value is trying to be set on a copy of a slice from a DataFrame.\n",
      "Try using .loc[row_indexer,col_indexer] = value instead\n",
      "\n",
      "See the caveats in the documentation: http://pandas.pydata.org/pandas-docs/stable/indexing.html#indexing-view-versus-copy\n",
      "  This is separate from the ipykernel package so we can avoid doing imports until\n",
      "/home/teasyu/anaconda3/lib/python3.6/site-packages/ipykernel_launcher.py:4: SettingWithCopyWarning: \n",
      "A value is trying to be set on a copy of a slice from a DataFrame.\n",
      "Try using .loc[row_indexer,col_indexer] = value instead\n",
      "\n",
      "See the caveats in the documentation: http://pandas.pydata.org/pandas-docs/stable/indexing.html#indexing-view-versus-copy\n",
      "  after removing the cwd from sys.path.\n",
      "/home/teasyu/anaconda3/lib/python3.6/site-packages/ipykernel_launcher.py:5: SettingWithCopyWarning: \n",
      "A value is trying to be set on a copy of a slice from a DataFrame.\n",
      "Try using .loc[row_indexer,col_indexer] = value instead\n",
      "\n",
      "See the caveats in the documentation: http://pandas.pydata.org/pandas-docs/stable/indexing.html#indexing-view-versus-copy\n",
      "  \"\"\"\n",
      "/home/teasyu/anaconda3/lib/python3.6/site-packages/ipykernel_launcher.py:6: SettingWithCopyWarning: \n",
      "A value is trying to be set on a copy of a slice from a DataFrame.\n",
      "Try using .loc[row_indexer,col_indexer] = value instead\n",
      "\n",
      "See the caveats in the documentation: http://pandas.pydata.org/pandas-docs/stable/indexing.html#indexing-view-versus-copy\n",
      "  \n"
     ]
    },
    {
     "data": {
      "text/html": [
       "<div>\n",
       "<style>\n",
       "    .dataframe thead tr:only-child th {\n",
       "        text-align: right;\n",
       "    }\n",
       "\n",
       "    .dataframe thead th {\n",
       "        text-align: left;\n",
       "    }\n",
       "\n",
       "    .dataframe tbody tr th {\n",
       "        vertical-align: top;\n",
       "    }\n",
       "</style>\n",
       "<table border=\"1\" class=\"dataframe\">\n",
       "  <thead>\n",
       "    <tr style=\"text-align: right;\">\n",
       "      <th></th>\n",
       "      <th>V1</th>\n",
       "      <th>V2</th>\n",
       "      <th>V3</th>\n",
       "      <th>V4</th>\n",
       "      <th>V5</th>\n",
       "      <th>V6</th>\n",
       "      <th>V7</th>\n",
       "      <th>V8</th>\n",
       "      <th>V9</th>\n",
       "      <th>V10</th>\n",
       "      <th>V11</th>\n",
       "      <th>V12</th>\n",
       "      <th>V13</th>\n",
       "      <th>V14</th>\n",
       "    </tr>\n",
       "  </thead>\n",
       "  <tbody>\n",
       "    <tr>\n",
       "      <th>365</th>\n",
       "      <td>0</td>\n",
       "      <td>50.25</td>\n",
       "      <td>0.835</td>\n",
       "      <td>2</td>\n",
       "      <td>6</td>\n",
       "      <td>4</td>\n",
       "      <td>0.500</td>\n",
       "      <td>0</td>\n",
       "      <td>0</td>\n",
       "      <td>0</td>\n",
       "      <td>1</td>\n",
       "      <td>2</td>\n",
       "      <td>0.367470</td>\n",
       "      <td>-0.171859</td>\n",
       "    </tr>\n",
       "    <tr>\n",
       "      <th>634</th>\n",
       "      <td>1</td>\n",
       "      <td>18.58</td>\n",
       "      <td>10.290</td>\n",
       "      <td>2</td>\n",
       "      <td>1</td>\n",
       "      <td>1</td>\n",
       "      <td>0.415</td>\n",
       "      <td>0</td>\n",
       "      <td>0</td>\n",
       "      <td>0</td>\n",
       "      <td>0</td>\n",
       "      <td>2</td>\n",
       "      <td>-0.656365</td>\n",
       "      <td>-0.193801</td>\n",
       "    </tr>\n",
       "    <tr>\n",
       "      <th>250</th>\n",
       "      <td>1</td>\n",
       "      <td>24.08</td>\n",
       "      <td>9.000</td>\n",
       "      <td>2</td>\n",
       "      <td>6</td>\n",
       "      <td>4</td>\n",
       "      <td>0.250</td>\n",
       "      <td>0</td>\n",
       "      <td>0</td>\n",
       "      <td>0</td>\n",
       "      <td>1</td>\n",
       "      <td>2</td>\n",
       "      <td>-1.168283</td>\n",
       "      <td>-0.193801</td>\n",
       "    </tr>\n",
       "    <tr>\n",
       "      <th>163</th>\n",
       "      <td>1</td>\n",
       "      <td>34.50</td>\n",
       "      <td>4.040</td>\n",
       "      <td>1</td>\n",
       "      <td>3</td>\n",
       "      <td>5</td>\n",
       "      <td>8.500</td>\n",
       "      <td>1</td>\n",
       "      <td>1</td>\n",
       "      <td>7</td>\n",
       "      <td>1</td>\n",
       "      <td>2</td>\n",
       "      <td>0.079516</td>\n",
       "      <td>-0.193801</td>\n",
       "    </tr>\n",
       "    <tr>\n",
       "      <th>394</th>\n",
       "      <td>0</td>\n",
       "      <td>25.58</td>\n",
       "      <td>0.000</td>\n",
       "      <td>2</td>\n",
       "      <td>8</td>\n",
       "      <td>4</td>\n",
       "      <td>0.000</td>\n",
       "      <td>0</td>\n",
       "      <td>0</td>\n",
       "      <td>0</td>\n",
       "      <td>0</td>\n",
       "      <td>3</td>\n",
       "      <td>0.009128</td>\n",
       "      <td>-0.193801</td>\n",
       "    </tr>\n",
       "    <tr>\n",
       "      <th>352</th>\n",
       "      <td>1</td>\n",
       "      <td>31.57</td>\n",
       "      <td>4.000</td>\n",
       "      <td>2</td>\n",
       "      <td>14</td>\n",
       "      <td>4</td>\n",
       "      <td>5.000</td>\n",
       "      <td>1</td>\n",
       "      <td>1</td>\n",
       "      <td>3</td>\n",
       "      <td>1</td>\n",
       "      <td>2</td>\n",
       "      <td>0.687418</td>\n",
       "      <td>0.233594</td>\n",
       "    </tr>\n",
       "    <tr>\n",
       "      <th>205</th>\n",
       "      <td>1</td>\n",
       "      <td>30.83</td>\n",
       "      <td>0.000</td>\n",
       "      <td>2</td>\n",
       "      <td>9</td>\n",
       "      <td>4</td>\n",
       "      <td>1.250</td>\n",
       "      <td>1</td>\n",
       "      <td>1</td>\n",
       "      <td>1</td>\n",
       "      <td>0</td>\n",
       "      <td>2</td>\n",
       "      <td>0.124309</td>\n",
       "      <td>-0.193801</td>\n",
       "    </tr>\n",
       "    <tr>\n",
       "      <th>153</th>\n",
       "      <td>1</td>\n",
       "      <td>18.83</td>\n",
       "      <td>0.415</td>\n",
       "      <td>1</td>\n",
       "      <td>8</td>\n",
       "      <td>4</td>\n",
       "      <td>0.165</td>\n",
       "      <td>0</td>\n",
       "      <td>1</td>\n",
       "      <td>1</td>\n",
       "      <td>0</td>\n",
       "      <td>2</td>\n",
       "      <td>0.111511</td>\n",
       "      <td>-0.193613</td>\n",
       "    </tr>\n",
       "    <tr>\n",
       "      <th>238</th>\n",
       "      <td>1</td>\n",
       "      <td>35.58</td>\n",
       "      <td>0.750</td>\n",
       "      <td>2</td>\n",
       "      <td>4</td>\n",
       "      <td>4</td>\n",
       "      <td>1.500</td>\n",
       "      <td>0</td>\n",
       "      <td>0</td>\n",
       "      <td>0</td>\n",
       "      <td>1</td>\n",
       "      <td>2</td>\n",
       "      <td>0.309879</td>\n",
       "      <td>-0.193801</td>\n",
       "    </tr>\n",
       "    <tr>\n",
       "      <th>620</th>\n",
       "      <td>1</td>\n",
       "      <td>26.92</td>\n",
       "      <td>2.250</td>\n",
       "      <td>2</td>\n",
       "      <td>3</td>\n",
       "      <td>5</td>\n",
       "      <td>0.500</td>\n",
       "      <td>0</td>\n",
       "      <td>0</td>\n",
       "      <td>0</td>\n",
       "      <td>1</td>\n",
       "      <td>2</td>\n",
       "      <td>2.927058</td>\n",
       "      <td>0.556343</td>\n",
       "    </tr>\n",
       "  </tbody>\n",
       "</table>\n",
       "</div>"
      ],
      "text/plain": [
       "     V1     V2      V3  V4  V5  V6     V7  V8  V9  V10  V11  V12       V13  \\\n",
       "365   0  50.25   0.835   2   6   4  0.500   0   0    0    1    2  0.367470   \n",
       "634   1  18.58  10.290   2   1   1  0.415   0   0    0    0    2 -0.656365   \n",
       "250   1  24.08   9.000   2   6   4  0.250   0   0    0    1    2 -1.168283   \n",
       "163   1  34.50   4.040   1   3   5  8.500   1   1    7    1    2  0.079516   \n",
       "394   0  25.58   0.000   2   8   4  0.000   0   0    0    0    3  0.009128   \n",
       "352   1  31.57   4.000   2  14   4  5.000   1   1    3    1    2  0.687418   \n",
       "205   1  30.83   0.000   2   9   4  1.250   1   1    1    0    2  0.124309   \n",
       "153   1  18.83   0.415   1   8   4  0.165   0   1    1    0    2  0.111511   \n",
       "238   1  35.58   0.750   2   4   4  1.500   0   0    0    1    2  0.309879   \n",
       "620   1  26.92   2.250   2   3   5  0.500   0   0    0    1    2  2.927058   \n",
       "\n",
       "          V14  \n",
       "365 -0.171859  \n",
       "634 -0.193801  \n",
       "250 -0.193801  \n",
       "163 -0.193801  \n",
       "394 -0.193801  \n",
       "352  0.233594  \n",
       "205 -0.193801  \n",
       "153 -0.193613  \n",
       "238 -0.193801  \n",
       "620  0.556343  "
      ]
     },
     "execution_count": 179,
     "metadata": {},
     "output_type": "execute_result"
    }
   ],
   "source": [
    "from sklearn.preprocessing import StandardScaler\n",
    "# Calibration\n",
    "eval_features['V13']=StandardScaler().fit_transform(eval_features['V13'].values.reshape([-1,1]))\n",
    "test_eval_features['V13'] = StandardScaler().fit_transform(test_eval_features['V13'].values.reshape([-1,1]))\n",
    "eval_features['V14']=StandardScaler().fit_transform(eval_features['V14'].values.reshape([-1,1]))\n",
    "test_eval_features['V14'] = StandardScaler().fit_transform(test_eval_features['V14'].values.reshape([-1,1]))\n",
    "eval_features.head(10)"
   ]
  },
  {
   "cell_type": "code",
   "execution_count": 180,
   "metadata": {},
   "outputs": [
    {
     "name": "stdout",
     "output_type": "stream",
     "text": [
      "Logistic regression quality is 83.3333333333%\n"
     ]
    }
   ],
   "source": [
    "# Etablir le modèle par les données corrigées\n",
    "lrregression(eval_features, eval_target, test_eval_features, test_eval_target)"
   ]
  },
  {
   "cell_type": "code",
   "execution_count": 266,
   "metadata": {},
   "outputs": [
    {
     "name": "stdout",
     "output_type": "stream",
     "text": [
      "   C_parameter Mean recall score\n",
      "0          0.1          0.869926\n",
      "1          0.5          0.902903\n",
      "2          0.7          0.898072\n",
      "3          0.8          0.902903\n",
      "4          0.9          0.898072\n",
      "5          1.0          0.907734\n",
      "6          2.0            0.9123\n",
      "2.0\n"
     ]
    }
   ],
   "source": [
    "from sklearn.cross_validation import KFold, cross_val_score\n",
    "from sklearn.metrics import confusion_matrix,recall_score,classification_report \n",
    "\n",
    "def printing_Kfold_scores(x_train_data,y_train_data):\n",
    "\n",
    "    fold = KFold(len(y_train_data),3,shuffle=False)\n",
    "\n",
    "    c_param_range = [0.1,0.5,0.7,0.8,0.9,1,2]  \n",
    "\n",
    "    results_table = pd.DataFrame(index = range(len(c_param_range),2), columns = ['C_parameter','Mean recall score'])\n",
    "    results_table['C_parameter'] = c_param_range\n",
    "    j = 0\n",
    "\n",
    "    for c_param in c_param_range:  \n",
    "        y_accs = []\n",
    "        for iteration, indices in enumerate(fold,start=1): \n",
    "            # Validation croiséé et penalty est égal à l1\n",
    "            lr = LogisticRegression(C = c_param, penalty = 'l1', solver='liblinear') \n",
    "            #print(y_train_data.iloc[indices[0]])\n",
    "            lr.fit(x_train_data.iloc[indices[0],:],y_train_data.iloc[indices[0]].values.ravel())\n",
    "            y_pred_undersample = lr.predict(x_train_data.iloc[indices[1],:].values)\n",
    "            # Calculer la ratio de recall\n",
    "            y_acc = recall_score(y_train_data.iloc[indices[1]].values,y_pred_undersample)\n",
    "            y_accs.append(y_acc)\n",
    "            \n",
    "        # Calculer la moyenne de recall score\n",
    "        results_table.loc[j,'Mean recall score'] = np.mean(y_accs)\n",
    "        j += 1\n",
    "\n",
    "    best_c = results_table.loc[results_table['Mean recall score'].idxmax()]['C_parameter']\n",
    "    print(results_table)\n",
    "    return best_c\n",
    " \n",
    "best_c = printing_Kfold_scores(eval_features,eval_target)\n",
    "print(best_c)"
   ]
  },
  {
   "cell_type": "code",
   "execution_count": 267,
   "metadata": {},
   "outputs": [
    {
     "name": "stdout",
     "output_type": "stream",
     "text": [
      "Recall metric in the testing dataset:  0.878787878788\n",
      "C is taken :  2.0\n"
     ]
    },
    {
     "data": {
      "image/png": "[encoded data removed]",
      "text/plain": [
       "<matplotlib.figure.Figure at 0x7fc85e376d30>"
      ]
     },
     "metadata": {},
     "output_type": "display_data"
    }
   ],
   "source": [
    "import itertools\n",
    "def plot_confusion_matrix(cm, classes,title='Confusion matrix',cmap=plt.cm.Reds):\n",
    "    \"\"\"\n",
    "    This function prints and plots the confusion matrix.\n",
    "    \"\"\"\n",
    "    plt.imshow(cm, interpolation='nearest', cmap=cmap)\n",
    "    plt.title(title)\n",
    "    plt.colorbar()\n",
    "    tick_marks = np.arange(len(classes))\n",
    "    plt.xticks(tick_marks, classes, rotation=0)\n",
    "    plt.yticks(tick_marks, classes)\n",
    "\n",
    "    thresh = cm.max() / 2.\n",
    "    for i, j in itertools.product(range(cm.shape[0]), range(cm.shape[1])):\n",
    "        plt.text(j, i, cm[i, j],\n",
    "                 horizontalalignment=\"center\",\n",
    "                 color=\"white\" if cm[i, j] > thresh else \"black\")\n",
    "\n",
    "    plt.tight_layout()\n",
    "    plt.ylabel('Vrai')\n",
    "    plt.xlabel('Prediction')\n",
    "\n",
    "\n",
    "lr = LogisticRegression(C = best_c, penalty = 'l1', solver='liblinear')\n",
    "lr.fit(eval_features, eval_target.values.ravel())\n",
    "y_pred_undersample = lr.predict(test_eval_features.values)\n",
    "# Calculer la matrice de confusion\n",
    "cnf_matrix = confusion_matrix(test_eval_target,y_pred_undersample)\n",
    "np.set_printoptions(precision=2)\n",
    "\n",
    "print(\"Recall metric in the testing dataset: \", cnf_matrix[1,1]/(cnf_matrix[1,0]+cnf_matrix[1,1]))\n",
    "print(\"C is taken : \", best_c)\n",
    "class_names = [0,1]\n",
    "plt.figure()\n",
    "plot_confusion_matrix(cnf_matrix, classes=class_names, title='matrice de confusion')\n",
    "plt.show()"
   ]
  },
  {
   "cell_type": "code",
   "execution_count": null,
   "metadata": {
    "collapsed": true
   },
   "outputs": [],
   "source": []
  }
 ],
 "metadata": {
  "kernelspec": {
   "display_name": "Python 3",
   "language": "python",
   "name": "python3"
  },
  "language_info": {
   "codemirror_mode": {
    "name": "ipython",
    "version": 3
   },
   "file_extension": ".py",
   "mimetype": "text/x-python",
   "name": "python",
   "nbconvert_exporter": "python",
   "pygments_lexer": "ipython3",
   "version": "3.6.3"
  }
 },
 "nbformat": 4,
 "nbformat_minor": 2
}
