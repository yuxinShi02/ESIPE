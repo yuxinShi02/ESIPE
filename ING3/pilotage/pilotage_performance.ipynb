{
 "cells": [
  {
   "cell_type": "markdown",
   "metadata": {},
   "source": [
    "# Pilotage de performance\n",
    "\n",
    "\n",
    "## exo:  Western Life\n",
    "### Q1: a quel type de CR(centre de responsabilite) a t on affaire chew Western Life?\n",
    "- Quels enseignements?   \n",
    "\n",
    "  Ce n'est pas que l'on peut mesurer un profit au niveau d'une division que l'on a affaire a un centre de profit : notion de contrôlabilite.\n",
    "  \n",
    "- Le siege\n",
    "- La centrale d'achats   \n",
    "\n",
    "  Se considéré et est considerer comme un centre de profit. Mais elle ne travaille que pour les enseignes du groupe. Elle n'a pas de veritable contrôle sur son chiffre d'affaires. C'est un centre de cout qui controle aussi des investissement.\n",
    "\n",
    "\n"
   ]
  },
  {
   "cell_type": "markdown",
   "metadata": {},
   "source": [
    "### Q2: Vous semble-t-il de pertinent d'évaluer la performance du responsable de Grill Express sur le résultat d'enseigne?\n",
    "\n",
    "|   | NS  | C  | GE  | N - 1(GE) |\n",
    "|---|---|---|---|---|\n",
    "| Res avant impot/CA  | 1761/56169  | 1304/24336  | 205/6552  |  2% |\n",
    "|   |  3.1% | 5.4%  | 3.1%  |   |\n",
    "| (CA-achats MP)/CA  | (56160 - 17127)/56160=69.5%  | 69.5%  |70.7% | 72% | \n",
    "| Frais perso/CA| 38% | 38% | 34%| 36% |\n",
    "\n",
    "- La marge de l'enseigne en valeur absolue ne resulte pas uniquement des decisions de son  manager. La performance du responsable ne peut s'apprecier aue de facon relative. Mais quelle reference?\n",
    "- La comparaison de la marge de GE par rapport a sa merge passe ameliore la mesure mais elle ne tient pas compte de évolution de l'environnement. Elle n'integre pas de plan de progres permettant de stimuler le manager.    \n",
    "\n",
    "La référence d'evaluation pour un manager d'un centre de responsabilite: l'objectif négocie lors du budget qui est censé integrer a la fois: \n",
    "- Les réalisations du passe\n",
    "- Les évolutions de l'environnement\n",
    "- Les performances d'entité comparables \n",
    "- Des actions de progrès réalistes.\n",
    "\n",
    "\n",
    "|   | NS  | C  | GE  | Total |\n",
    "|---|---|---|---|---|\n",
    "| Frais de personnel | 21345 | 9245 | 2227 | 32817 |\n",
    "| Frais siege | (13009 - 32817)*21345 = 8461  |  |  | 13009|\n",
    "\\* Frais de siege: charge indirecte."
   ]
  },
  {
   "cell_type": "markdown",
   "metadata": {},
   "source": [
    "### Q3: que pensez-vouss de la facon dont les resultats ont ete construits par le controleur de gestion?\n",
    "- Faut-il allouer les frais de siege?   \n",
    "Tout depend de l'usage que l'on veut faire de l'evaluation: evaluer la performance des segments d'activite ou evaluer la performance des managers.\n",
    "Distinguer le lieu de consommation de la charge(comptabilite de gestion) et le lieu du controle de la charge.\n",
    "\n",
    "- Qui controle quoi?\n",
    "\n",
    "|   |    WS    |    C    |    GE    |   siege   | Centrale d'achat|\n",
    "| --- | --- | --- | --- | --- |\n",
    "| CA | x | x | x | x | x |\n",
    "| **Couts-directs**|  |  |  |  |  |\n",
    "| Achat MP | x | x | x | - | x |\n",
    "| Charge externes |  x | x | x | - | x |\n",
    "| Publicite enseigne | - | - | - | x | - |\n",
    "| DA constructions | - | - | - | x | - |\n",
    "| Frais personnel siege | x | x | x | - | - |\n",
    "| Impots et taxes | x | x | x | - | - |\n",
    "| **Couts indirects** |  |  |  |  |  |\n",
    "| Frais personnel siege | - | - | - | x | x |\n",
    "| Publicite groupe | - | - | - | x | - |\n",
    "| Loyer siege et Centrale achat| - | - | - | x | x |\n",
    "| DA camions machines | - | - | - | - | x |\n",
    "| Frais financiers | - | - | - | x | - |\n",
    "| **Resultat** |\n",
    "\n",
    "\\* BFR(cout de decouvert): creance client - dette fournisseur\n",
    "\n",
    "|   |    WS    |    C    |    GE    |   siege   | Centrale d'achat| Totable | \n",
    "| --- | --- | --- | --- | --- |\n",
    "| Immobilisation |  | | | 45090 - 2310 = 42780 | 2310 | 45090 | \n",
    "| Creance client | 542 | 321 | 268 |  |  | 1131 |\n",
    "| Stocks | 213 | 179 | 98 | | | 490|\n",
    "| Dette fournisseur |\n",
    "| Dettes autres | | | | -2212 | |\n",
    "| Bien de financement(creance + stock) | 755 | 500 | 366 | 40568 | 15 | 42174 |"
   ]
  },
  {
   "cell_type": "markdown",
   "metadata": {},
   "source": [
    "### Q4: Comparaison les prevoits et la realiste\n",
    "\n",
    "| Siege  |Budg|Real|$\\Delta$|Centrale achat|B|R|$\\Delta$|Enseigne|B(WL)|R|$\\Delta$|B(Coccon)|R|$\\Delta$|B(GE)|R|$\\Delta$\n",
    "|---|---|---|---|---|---|---|---|---|---|---|---|---|---|---|---|---|---|\n",
    "| F Pers|2085|2150|+65|Achat|25489|25939|+450|CA|56160|56160|0|24336|24336|0|6552|6552|0\n",
    "| Pub|3280|3480|+200|F pers|950|950|0|Achat MP|16490|16791|301|7120|7269|149|1900|1879|-21|\n",
    "| DA cons|4420|4420|0|DA|639|639|0|Charge exern|4658|4658|0|1733|1733|0|860|860|0|\n",
    "| F Fi   |200|200|0|Loyer|250|250|0| F pers |21345|21345|0|9245|9245|0|2227|2227|0|\n",
    "| Loyer  |900|920|+20|Refacturation|25489|25939| 450|Imp taxes|2808|2808|0|975|975|0|460|460|\n",
    "|**Total**|10885|11170|+285|**Total**|1889|1889|0|**Res avant Imp**|10859|10558|-301|5263|5114|-149|1105|1126|+21|"
   ]
  },
  {
   "cell_type": "markdown",
   "metadata": {},
   "source": [
    "# Chap 3 L'evaluation des prix de cession interne\n",
    "Les transactions entre entres font l'objet d'une tarification interne le prix de cession interne. Système de valorisation des transactions internes existant dans les entreprises décentralisées cherchant à déterminer les performances de leurs établissements ou centres de responsabilité au moyen d'un résultat compatible avec leurs objectifs globaux.\n"
   ]
  },
  {
   "cell_type": "markdown",
   "metadata": {
    "collapsed": true
   },
   "source": [
    "## Exo: Determination des PCI\n",
    "### Q1: Etablissez les comptes de resultat previsionnel et reel de l'entreprise a  laquelle appartiennnet F(Centre de cout, fournissuer d'un produit intermediaire) et C(centre de profit, vendan le produit final sur le marche). Que constatez vous?\n",
    "\n",
    "\n",
    "| - | Charges(CR Prevu) | Produits |Charges(CR Reel)| Produits |\n",
    "|---|---|---|---|---|\n",
    "|Charges Variables| 2500 * 10 | 2500 * 40 | 2000 * 11| 49 * 2000|\n",
    "|Charges Fixes| 20 000| | 21 000 | |\n",
    "|Charges Directes | 50 000 | | 50 000 | |\n",
    "|**Total**| 95 000 |10 000 |  93 000 | 98 000 | \n",
    "|**Resultat**| 5000 | | 5000| |"
   ]
  },
  {
   "cell_type": "markdown",
   "metadata": {},
   "source": [
    "### Q2: Determinez les resultats de chaque entite dans les hypotheses suivantes et indiquez quels sont les avantages et les inconvenients de chaque methode retenue.\n",
    "a. Le PCI est calcule sur la base du cout complet reel   \n",
    "b. Le PCI est calcule sur la base du cout complet standard   \n",
    "c. Le PCI est calcule sur la base du cout variable standard + forfait de frais fixes.   \n",
    "\n",
    "F ---> C   \n",
    "a. PCI = cout complet unitaire = $\\frac{CF_r - CV_r}{Q_r}$=$\\frac{21000 + 22000}{2000}$=21.5 \n",
    "\n",
    "\n",
    "| - | Charges(CR Prevu) | Produits |Charges(CR Reel)| Produits |\n",
    "|---|---|---|---|---|\n",
    "|CV=|Revenu de cession =|Cout de cess=|CA=|\n",
    "|11\\*2000 = 22000|2000\\*21.5=43000|2000\\*21.5=43000|2000\\*49=98000|\n",
    "|CF=|21000||?||\n",
    "|Total|43000|43000|93000|98000|\n",
    "|Contribue|0||5000||\n",
    "* Elle n'est pas pertinent, il est depend de F, si F est mal travaille.\n",
    "\n",
    "b. PCI = cout complet unitaire standard = $\\frac{CF_p+CV_p}{Q_p}$=$\\frac{20000+25000}{2500}$=18   \n",
    "\n",
    "| Charges | Charges(CR Prevu) | Produits |Charges(CR Reel)| Produits |\n",
    "|---|---|---|---|---|\n",
    "|CV|11\\*2000=22000|revenu de cess=2000\\*18=36000|Cout de cess=2000\\*18=36000|98000|\n",
    "|CF|21000|||\n",
    "|CD|||50000||\n",
    "|Total|43000|36000|86000|98000|\n",
    "|Contribution|-7000||12000||\n",
    "\n",
    "* Interet: on voit bien ce qui a mal fait son travail\n",
    "* Depassement charge fixe = 21000 - 20000 = 1000\n",
    "* Depassement CV = 2000 * (11 - 1) = 2000\n",
    "* Cout de sous activite: 2000 CF ---> 25000 Q => $X=\\frac{2000}{2500}*2000$, 20000 - 16000 = 4000, lie a la sous-absorpation des CF\n",
    "* F n'a pas fait son boulot dans la matrise de cout. Si c ne recherche pas le contrat, F depassera le resultat attendu.   \n",
    "\n",
    "c. Le PCI est calcule sur la base du cout variable standard + forfait de frais fixes = CV standard unitaire + forfait FF = (10 \\* $Q_r$) + 20000(CF standard) = (CV unitaire * $Q_r$)+FF standard.\n",
    "\n",
    "| Charges | Charges(CR Prevu) | Produits |Charges(CR Reel)| Produits |\n",
    "|---|---|---|---|---|\n",
    "|CV|22000| (2000\\*10)+20000=40000 | 40000|98000|\n",
    "|CF|21000|||\n",
    "|CF|||50000||\n",
    "|Total|43000|40000|90000|98000|\n",
    "|Contribution| -3000||8000||\n",
    "\n"
   ]
  },
  {
   "cell_type": "code",
   "execution_count": null,
   "metadata": {
    "collapsed": true
   },
   "outputs": [],
   "source": []
  }
 ],
 "metadata": {
  "kernelspec": {
   "display_name": "Python 3",
   "language": "python",
   "name": "python3"
  },
  "language_info": {
   "codemirror_mode": {
    "name": "ipython",
    "version": 3
   },
   "file_extension": ".py",
   "mimetype": "text/x-python",
   "name": "python",
   "nbconvert_exporter": "python",
   "pygments_lexer": "ipython3",
   "version": "3.6.3"
  }
 },
 "nbformat": 4,
 "nbformat_minor": 2
}
