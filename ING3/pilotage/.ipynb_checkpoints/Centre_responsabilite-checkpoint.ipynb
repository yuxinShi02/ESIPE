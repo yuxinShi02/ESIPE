{
 "cells": [
  {
   "cell_type": "markdown",
   "metadata": {},
   "source": [
    "# Révision de pilotage de performance\n",
    "\n",
    "## Notion de CR et Centre de profit\n",
    "\n",
    "### Centre de résponsabilité\n",
    "- centre de travail, centre de coût et le centre de profit conçue pour correspondant à un échelon de résponsabilité de l'entreprise.\n",
    "- Elle est caractérisé par : \n",
    "    - des objectifs spécifiques compatibles avec les objectifs généraux de l'entreprise ;\n",
    "    - des moyens propres pour atteindre ses objectifs ;\n",
    "    - une certaine indépendance pour l'utilisation de ses moyens, faisant du centre de responsabilité un centre de décision dont les performances seront contrôlées.\n",
    "- Le centre de responsabilité recevra donc toutes les charges le concernant qu'elles soient directes ou indirectes (sens Plan comptable général).\n",
    "- Le contrôle de gestion décompose l’entreprise en centres de responsabilité facilitant le suivi de l’activité de chaque responsable.\n",
    "- Un centre de responsabilité est constitué d’un groupe d’acteurs de l’entité regroupés autour d’un\n",
    "- responsable disposant de moyens pour réaliser l’objectif qui lui a été attribué.    \n",
    "\n",
    "Exemples : chef de rayon dans un hypermarché, responsable produit dans un laboratoire, chef\n",
    "d’atelier dans l’industrie, … \n",
    "\n",
    "### Contre de profit: "
   ]
  }
 ],
 "metadata": {
  "kernelspec": {
   "display_name": "Python 3",
   "language": "python",
   "name": "python3"
  },
  "language_info": {
   "codemirror_mode": {
    "name": "ipython",
    "version": 3
   },
   "file_extension": ".py",
   "mimetype": "text/x-python",
   "name": "python",
   "nbconvert_exporter": "python",
   "pygments_lexer": "ipython3",
   "version": "3.6.3"
  }
 },
 "nbformat": 4,
 "nbformat_minor": 2
}
